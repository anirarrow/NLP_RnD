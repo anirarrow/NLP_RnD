{
  "nbformat": 4,
  "nbformat_minor": 0,
  "metadata": {
    "colab": {
      "name": "BERT_sentiment_analysis.ipynb",
      "provenance": [],
      "collapsed_sections": [],
      "authorship_tag": "ABX9TyO65h7MxsxNWegH8lP9WmQd",
      "include_colab_link": true
    },
    "kernelspec": {
      "name": "python3",
      "display_name": "Python 3"
    },
    "language_info": {
      "name": "python"
    },
    "widgets": {
      "application/vnd.jupyter.widget-state+json": {
        "427a3a32e7d147b0b9acbe71071df18b": {
          "model_module": "@jupyter-widgets/controls",
          "model_name": "HBoxModel",
          "state": {
            "_view_name": "HBoxView",
            "_dom_classes": [],
            "_model_name": "HBoxModel",
            "_view_module": "@jupyter-widgets/controls",
            "_model_module_version": "1.5.0",
            "_view_count": null,
            "_view_module_version": "1.5.0",
            "box_style": "",
            "layout": "IPY_MODEL_4f2b2b5f186b4105817ddb20b9dffe46",
            "_model_module": "@jupyter-widgets/controls",
            "children": [
              "IPY_MODEL_3ac82254a9dd48088d3768c58a5a3c5d",
              "IPY_MODEL_1555c976d59f4da28dd4374390db1ddb"
            ]
          }
        },
        "4f2b2b5f186b4105817ddb20b9dffe46": {
          "model_module": "@jupyter-widgets/base",
          "model_name": "LayoutModel",
          "state": {
            "_view_name": "LayoutView",
            "grid_template_rows": null,
            "right": null,
            "justify_content": null,
            "_view_module": "@jupyter-widgets/base",
            "overflow": null,
            "_model_module_version": "1.2.0",
            "_view_count": null,
            "flex_flow": null,
            "width": null,
            "min_width": null,
            "border": null,
            "align_items": null,
            "bottom": null,
            "_model_module": "@jupyter-widgets/base",
            "top": null,
            "grid_column": null,
            "overflow_y": null,
            "overflow_x": null,
            "grid_auto_flow": null,
            "grid_area": null,
            "grid_template_columns": null,
            "flex": null,
            "_model_name": "LayoutModel",
            "justify_items": null,
            "grid_row": null,
            "max_height": null,
            "align_content": null,
            "visibility": null,
            "align_self": null,
            "height": null,
            "min_height": null,
            "padding": null,
            "grid_auto_rows": null,
            "grid_gap": null,
            "max_width": null,
            "order": null,
            "_view_module_version": "1.2.0",
            "grid_template_areas": null,
            "object_position": null,
            "object_fit": null,
            "grid_auto_columns": null,
            "margin": null,
            "display": null,
            "left": null
          }
        },
        "3ac82254a9dd48088d3768c58a5a3c5d": {
          "model_module": "@jupyter-widgets/controls",
          "model_name": "FloatProgressModel",
          "state": {
            "_view_name": "ProgressView",
            "style": "IPY_MODEL_47edc331d2bf461db15424938b0c4add",
            "_dom_classes": [],
            "description": "Downloading: 100%",
            "_model_name": "FloatProgressModel",
            "bar_style": "success",
            "max": 231508,
            "_view_module": "@jupyter-widgets/controls",
            "_model_module_version": "1.5.0",
            "value": 231508,
            "_view_count": null,
            "_view_module_version": "1.5.0",
            "orientation": "horizontal",
            "min": 0,
            "description_tooltip": null,
            "_model_module": "@jupyter-widgets/controls",
            "layout": "IPY_MODEL_6d89d27d79994f98b8b481a3120d1367"
          }
        },
        "1555c976d59f4da28dd4374390db1ddb": {
          "model_module": "@jupyter-widgets/controls",
          "model_name": "HTMLModel",
          "state": {
            "_view_name": "HTMLView",
            "style": "IPY_MODEL_943b3cc9fda74ade9167894b2f7eb18d",
            "_dom_classes": [],
            "description": "",
            "_model_name": "HTMLModel",
            "placeholder": "​",
            "_view_module": "@jupyter-widgets/controls",
            "_model_module_version": "1.5.0",
            "value": " 232k/232k [00:01&lt;00:00, 146kB/s]",
            "_view_count": null,
            "_view_module_version": "1.5.0",
            "description_tooltip": null,
            "_model_module": "@jupyter-widgets/controls",
            "layout": "IPY_MODEL_9497add2a1d44cf18e03499664414297"
          }
        },
        "47edc331d2bf461db15424938b0c4add": {
          "model_module": "@jupyter-widgets/controls",
          "model_name": "ProgressStyleModel",
          "state": {
            "_view_name": "StyleView",
            "_model_name": "ProgressStyleModel",
            "description_width": "initial",
            "_view_module": "@jupyter-widgets/base",
            "_model_module_version": "1.5.0",
            "_view_count": null,
            "_view_module_version": "1.2.0",
            "bar_color": null,
            "_model_module": "@jupyter-widgets/controls"
          }
        },
        "6d89d27d79994f98b8b481a3120d1367": {
          "model_module": "@jupyter-widgets/base",
          "model_name": "LayoutModel",
          "state": {
            "_view_name": "LayoutView",
            "grid_template_rows": null,
            "right": null,
            "justify_content": null,
            "_view_module": "@jupyter-widgets/base",
            "overflow": null,
            "_model_module_version": "1.2.0",
            "_view_count": null,
            "flex_flow": null,
            "width": null,
            "min_width": null,
            "border": null,
            "align_items": null,
            "bottom": null,
            "_model_module": "@jupyter-widgets/base",
            "top": null,
            "grid_column": null,
            "overflow_y": null,
            "overflow_x": null,
            "grid_auto_flow": null,
            "grid_area": null,
            "grid_template_columns": null,
            "flex": null,
            "_model_name": "LayoutModel",
            "justify_items": null,
            "grid_row": null,
            "max_height": null,
            "align_content": null,
            "visibility": null,
            "align_self": null,
            "height": null,
            "min_height": null,
            "padding": null,
            "grid_auto_rows": null,
            "grid_gap": null,
            "max_width": null,
            "order": null,
            "_view_module_version": "1.2.0",
            "grid_template_areas": null,
            "object_position": null,
            "object_fit": null,
            "grid_auto_columns": null,
            "margin": null,
            "display": null,
            "left": null
          }
        },
        "943b3cc9fda74ade9167894b2f7eb18d": {
          "model_module": "@jupyter-widgets/controls",
          "model_name": "DescriptionStyleModel",
          "state": {
            "_view_name": "StyleView",
            "_model_name": "DescriptionStyleModel",
            "description_width": "",
            "_view_module": "@jupyter-widgets/base",
            "_model_module_version": "1.5.0",
            "_view_count": null,
            "_view_module_version": "1.2.0",
            "_model_module": "@jupyter-widgets/controls"
          }
        },
        "9497add2a1d44cf18e03499664414297": {
          "model_module": "@jupyter-widgets/base",
          "model_name": "LayoutModel",
          "state": {
            "_view_name": "LayoutView",
            "grid_template_rows": null,
            "right": null,
            "justify_content": null,
            "_view_module": "@jupyter-widgets/base",
            "overflow": null,
            "_model_module_version": "1.2.0",
            "_view_count": null,
            "flex_flow": null,
            "width": null,
            "min_width": null,
            "border": null,
            "align_items": null,
            "bottom": null,
            "_model_module": "@jupyter-widgets/base",
            "top": null,
            "grid_column": null,
            "overflow_y": null,
            "overflow_x": null,
            "grid_auto_flow": null,
            "grid_area": null,
            "grid_template_columns": null,
            "flex": null,
            "_model_name": "LayoutModel",
            "justify_items": null,
            "grid_row": null,
            "max_height": null,
            "align_content": null,
            "visibility": null,
            "align_self": null,
            "height": null,
            "min_height": null,
            "padding": null,
            "grid_auto_rows": null,
            "grid_gap": null,
            "max_width": null,
            "order": null,
            "_view_module_version": "1.2.0",
            "grid_template_areas": null,
            "object_position": null,
            "object_fit": null,
            "grid_auto_columns": null,
            "margin": null,
            "display": null,
            "left": null
          }
        },
        "f60b3f0f4742455d91546071119a34d9": {
          "model_module": "@jupyter-widgets/controls",
          "model_name": "HBoxModel",
          "state": {
            "_view_name": "HBoxView",
            "_dom_classes": [],
            "_model_name": "HBoxModel",
            "_view_module": "@jupyter-widgets/controls",
            "_model_module_version": "1.5.0",
            "_view_count": null,
            "_view_module_version": "1.5.0",
            "box_style": "",
            "layout": "IPY_MODEL_b9e006cc9e7d47e99eaa890cf95ca113",
            "_model_module": "@jupyter-widgets/controls",
            "children": [
              "IPY_MODEL_1ec6b73d039e4cf08652d33312df4927",
              "IPY_MODEL_4593d1bf04e841fc80ab91bb17b0fbe1"
            ]
          }
        },
        "b9e006cc9e7d47e99eaa890cf95ca113": {
          "model_module": "@jupyter-widgets/base",
          "model_name": "LayoutModel",
          "state": {
            "_view_name": "LayoutView",
            "grid_template_rows": null,
            "right": null,
            "justify_content": null,
            "_view_module": "@jupyter-widgets/base",
            "overflow": null,
            "_model_module_version": "1.2.0",
            "_view_count": null,
            "flex_flow": null,
            "width": null,
            "min_width": null,
            "border": null,
            "align_items": null,
            "bottom": null,
            "_model_module": "@jupyter-widgets/base",
            "top": null,
            "grid_column": null,
            "overflow_y": null,
            "overflow_x": null,
            "grid_auto_flow": null,
            "grid_area": null,
            "grid_template_columns": null,
            "flex": null,
            "_model_name": "LayoutModel",
            "justify_items": null,
            "grid_row": null,
            "max_height": null,
            "align_content": null,
            "visibility": null,
            "align_self": null,
            "height": null,
            "min_height": null,
            "padding": null,
            "grid_auto_rows": null,
            "grid_gap": null,
            "max_width": null,
            "order": null,
            "_view_module_version": "1.2.0",
            "grid_template_areas": null,
            "object_position": null,
            "object_fit": null,
            "grid_auto_columns": null,
            "margin": null,
            "display": null,
            "left": null
          }
        },
        "1ec6b73d039e4cf08652d33312df4927": {
          "model_module": "@jupyter-widgets/controls",
          "model_name": "FloatProgressModel",
          "state": {
            "_view_name": "ProgressView",
            "style": "IPY_MODEL_6848760bea884902a46648986e6c37c1",
            "_dom_classes": [],
            "description": "Downloading: 100%",
            "_model_name": "FloatProgressModel",
            "bar_style": "success",
            "max": 28,
            "_view_module": "@jupyter-widgets/controls",
            "_model_module_version": "1.5.0",
            "value": 28,
            "_view_count": null,
            "_view_module_version": "1.5.0",
            "orientation": "horizontal",
            "min": 0,
            "description_tooltip": null,
            "_model_module": "@jupyter-widgets/controls",
            "layout": "IPY_MODEL_d627b5e48e2a44de806c3fbdc0e8ab4e"
          }
        },
        "4593d1bf04e841fc80ab91bb17b0fbe1": {
          "model_module": "@jupyter-widgets/controls",
          "model_name": "HTMLModel",
          "state": {
            "_view_name": "HTMLView",
            "style": "IPY_MODEL_572469340c2745cbbaba8a6d8ac90212",
            "_dom_classes": [],
            "description": "",
            "_model_name": "HTMLModel",
            "placeholder": "​",
            "_view_module": "@jupyter-widgets/controls",
            "_model_module_version": "1.5.0",
            "value": " 28.0/28.0 [00:00&lt;00:00, 28.2B/s]",
            "_view_count": null,
            "_view_module_version": "1.5.0",
            "description_tooltip": null,
            "_model_module": "@jupyter-widgets/controls",
            "layout": "IPY_MODEL_34c70a28f68949ef8599fe6646e6749e"
          }
        },
        "6848760bea884902a46648986e6c37c1": {
          "model_module": "@jupyter-widgets/controls",
          "model_name": "ProgressStyleModel",
          "state": {
            "_view_name": "StyleView",
            "_model_name": "ProgressStyleModel",
            "description_width": "initial",
            "_view_module": "@jupyter-widgets/base",
            "_model_module_version": "1.5.0",
            "_view_count": null,
            "_view_module_version": "1.2.0",
            "bar_color": null,
            "_model_module": "@jupyter-widgets/controls"
          }
        },
        "d627b5e48e2a44de806c3fbdc0e8ab4e": {
          "model_module": "@jupyter-widgets/base",
          "model_name": "LayoutModel",
          "state": {
            "_view_name": "LayoutView",
            "grid_template_rows": null,
            "right": null,
            "justify_content": null,
            "_view_module": "@jupyter-widgets/base",
            "overflow": null,
            "_model_module_version": "1.2.0",
            "_view_count": null,
            "flex_flow": null,
            "width": null,
            "min_width": null,
            "border": null,
            "align_items": null,
            "bottom": null,
            "_model_module": "@jupyter-widgets/base",
            "top": null,
            "grid_column": null,
            "overflow_y": null,
            "overflow_x": null,
            "grid_auto_flow": null,
            "grid_area": null,
            "grid_template_columns": null,
            "flex": null,
            "_model_name": "LayoutModel",
            "justify_items": null,
            "grid_row": null,
            "max_height": null,
            "align_content": null,
            "visibility": null,
            "align_self": null,
            "height": null,
            "min_height": null,
            "padding": null,
            "grid_auto_rows": null,
            "grid_gap": null,
            "max_width": null,
            "order": null,
            "_view_module_version": "1.2.0",
            "grid_template_areas": null,
            "object_position": null,
            "object_fit": null,
            "grid_auto_columns": null,
            "margin": null,
            "display": null,
            "left": null
          }
        },
        "572469340c2745cbbaba8a6d8ac90212": {
          "model_module": "@jupyter-widgets/controls",
          "model_name": "DescriptionStyleModel",
          "state": {
            "_view_name": "StyleView",
            "_model_name": "DescriptionStyleModel",
            "description_width": "",
            "_view_module": "@jupyter-widgets/base",
            "_model_module_version": "1.5.0",
            "_view_count": null,
            "_view_module_version": "1.2.0",
            "_model_module": "@jupyter-widgets/controls"
          }
        },
        "34c70a28f68949ef8599fe6646e6749e": {
          "model_module": "@jupyter-widgets/base",
          "model_name": "LayoutModel",
          "state": {
            "_view_name": "LayoutView",
            "grid_template_rows": null,
            "right": null,
            "justify_content": null,
            "_view_module": "@jupyter-widgets/base",
            "overflow": null,
            "_model_module_version": "1.2.0",
            "_view_count": null,
            "flex_flow": null,
            "width": null,
            "min_width": null,
            "border": null,
            "align_items": null,
            "bottom": null,
            "_model_module": "@jupyter-widgets/base",
            "top": null,
            "grid_column": null,
            "overflow_y": null,
            "overflow_x": null,
            "grid_auto_flow": null,
            "grid_area": null,
            "grid_template_columns": null,
            "flex": null,
            "_model_name": "LayoutModel",
            "justify_items": null,
            "grid_row": null,
            "max_height": null,
            "align_content": null,
            "visibility": null,
            "align_self": null,
            "height": null,
            "min_height": null,
            "padding": null,
            "grid_auto_rows": null,
            "grid_gap": null,
            "max_width": null,
            "order": null,
            "_view_module_version": "1.2.0",
            "grid_template_areas": null,
            "object_position": null,
            "object_fit": null,
            "grid_auto_columns": null,
            "margin": null,
            "display": null,
            "left": null
          }
        },
        "40dc949b93c542e68d9764a53cb62736": {
          "model_module": "@jupyter-widgets/controls",
          "model_name": "HBoxModel",
          "state": {
            "_view_name": "HBoxView",
            "_dom_classes": [],
            "_model_name": "HBoxModel",
            "_view_module": "@jupyter-widgets/controls",
            "_model_module_version": "1.5.0",
            "_view_count": null,
            "_view_module_version": "1.5.0",
            "box_style": "",
            "layout": "IPY_MODEL_6bd3cd81fb094f2185cb3474a3ca37d0",
            "_model_module": "@jupyter-widgets/controls",
            "children": [
              "IPY_MODEL_9578e1e201364f67a50ecf9f824c0449",
              "IPY_MODEL_2e0ac20e31a042fcb50ea947433711a2"
            ]
          }
        },
        "6bd3cd81fb094f2185cb3474a3ca37d0": {
          "model_module": "@jupyter-widgets/base",
          "model_name": "LayoutModel",
          "state": {
            "_view_name": "LayoutView",
            "grid_template_rows": null,
            "right": null,
            "justify_content": null,
            "_view_module": "@jupyter-widgets/base",
            "overflow": null,
            "_model_module_version": "1.2.0",
            "_view_count": null,
            "flex_flow": null,
            "width": null,
            "min_width": null,
            "border": null,
            "align_items": null,
            "bottom": null,
            "_model_module": "@jupyter-widgets/base",
            "top": null,
            "grid_column": null,
            "overflow_y": null,
            "overflow_x": null,
            "grid_auto_flow": null,
            "grid_area": null,
            "grid_template_columns": null,
            "flex": null,
            "_model_name": "LayoutModel",
            "justify_items": null,
            "grid_row": null,
            "max_height": null,
            "align_content": null,
            "visibility": null,
            "align_self": null,
            "height": null,
            "min_height": null,
            "padding": null,
            "grid_auto_rows": null,
            "grid_gap": null,
            "max_width": null,
            "order": null,
            "_view_module_version": "1.2.0",
            "grid_template_areas": null,
            "object_position": null,
            "object_fit": null,
            "grid_auto_columns": null,
            "margin": null,
            "display": null,
            "left": null
          }
        },
        "9578e1e201364f67a50ecf9f824c0449": {
          "model_module": "@jupyter-widgets/controls",
          "model_name": "FloatProgressModel",
          "state": {
            "_view_name": "ProgressView",
            "style": "IPY_MODEL_2b7dfc63d66a4edf9ee071bd6e702d2a",
            "_dom_classes": [],
            "description": "Downloading: 100%",
            "_model_name": "FloatProgressModel",
            "bar_style": "success",
            "max": 466062,
            "_view_module": "@jupyter-widgets/controls",
            "_model_module_version": "1.5.0",
            "value": 466062,
            "_view_count": null,
            "_view_module_version": "1.5.0",
            "orientation": "horizontal",
            "min": 0,
            "description_tooltip": null,
            "_model_module": "@jupyter-widgets/controls",
            "layout": "IPY_MODEL_703d672d991741e2aff9e9c7063480ef"
          }
        },
        "2e0ac20e31a042fcb50ea947433711a2": {
          "model_module": "@jupyter-widgets/controls",
          "model_name": "HTMLModel",
          "state": {
            "_view_name": "HTMLView",
            "style": "IPY_MODEL_01fb7cd6dc0d40d485593b58ab26277e",
            "_dom_classes": [],
            "description": "",
            "_model_name": "HTMLModel",
            "placeholder": "​",
            "_view_module": "@jupyter-widgets/controls",
            "_model_module_version": "1.5.0",
            "value": " 466k/466k [00:00&lt;00:00, 2.20MB/s]",
            "_view_count": null,
            "_view_module_version": "1.5.0",
            "description_tooltip": null,
            "_model_module": "@jupyter-widgets/controls",
            "layout": "IPY_MODEL_4d236d7ea0eb43db9f794f45802891ae"
          }
        },
        "2b7dfc63d66a4edf9ee071bd6e702d2a": {
          "model_module": "@jupyter-widgets/controls",
          "model_name": "ProgressStyleModel",
          "state": {
            "_view_name": "StyleView",
            "_model_name": "ProgressStyleModel",
            "description_width": "initial",
            "_view_module": "@jupyter-widgets/base",
            "_model_module_version": "1.5.0",
            "_view_count": null,
            "_view_module_version": "1.2.0",
            "bar_color": null,
            "_model_module": "@jupyter-widgets/controls"
          }
        },
        "703d672d991741e2aff9e9c7063480ef": {
          "model_module": "@jupyter-widgets/base",
          "model_name": "LayoutModel",
          "state": {
            "_view_name": "LayoutView",
            "grid_template_rows": null,
            "right": null,
            "justify_content": null,
            "_view_module": "@jupyter-widgets/base",
            "overflow": null,
            "_model_module_version": "1.2.0",
            "_view_count": null,
            "flex_flow": null,
            "width": null,
            "min_width": null,
            "border": null,
            "align_items": null,
            "bottom": null,
            "_model_module": "@jupyter-widgets/base",
            "top": null,
            "grid_column": null,
            "overflow_y": null,
            "overflow_x": null,
            "grid_auto_flow": null,
            "grid_area": null,
            "grid_template_columns": null,
            "flex": null,
            "_model_name": "LayoutModel",
            "justify_items": null,
            "grid_row": null,
            "max_height": null,
            "align_content": null,
            "visibility": null,
            "align_self": null,
            "height": null,
            "min_height": null,
            "padding": null,
            "grid_auto_rows": null,
            "grid_gap": null,
            "max_width": null,
            "order": null,
            "_view_module_version": "1.2.0",
            "grid_template_areas": null,
            "object_position": null,
            "object_fit": null,
            "grid_auto_columns": null,
            "margin": null,
            "display": null,
            "left": null
          }
        },
        "01fb7cd6dc0d40d485593b58ab26277e": {
          "model_module": "@jupyter-widgets/controls",
          "model_name": "DescriptionStyleModel",
          "state": {
            "_view_name": "StyleView",
            "_model_name": "DescriptionStyleModel",
            "description_width": "",
            "_view_module": "@jupyter-widgets/base",
            "_model_module_version": "1.5.0",
            "_view_count": null,
            "_view_module_version": "1.2.0",
            "_model_module": "@jupyter-widgets/controls"
          }
        },
        "4d236d7ea0eb43db9f794f45802891ae": {
          "model_module": "@jupyter-widgets/base",
          "model_name": "LayoutModel",
          "state": {
            "_view_name": "LayoutView",
            "grid_template_rows": null,
            "right": null,
            "justify_content": null,
            "_view_module": "@jupyter-widgets/base",
            "overflow": null,
            "_model_module_version": "1.2.0",
            "_view_count": null,
            "flex_flow": null,
            "width": null,
            "min_width": null,
            "border": null,
            "align_items": null,
            "bottom": null,
            "_model_module": "@jupyter-widgets/base",
            "top": null,
            "grid_column": null,
            "overflow_y": null,
            "overflow_x": null,
            "grid_auto_flow": null,
            "grid_area": null,
            "grid_template_columns": null,
            "flex": null,
            "_model_name": "LayoutModel",
            "justify_items": null,
            "grid_row": null,
            "max_height": null,
            "align_content": null,
            "visibility": null,
            "align_self": null,
            "height": null,
            "min_height": null,
            "padding": null,
            "grid_auto_rows": null,
            "grid_gap": null,
            "max_width": null,
            "order": null,
            "_view_module_version": "1.2.0",
            "grid_template_areas": null,
            "object_position": null,
            "object_fit": null,
            "grid_auto_columns": null,
            "margin": null,
            "display": null,
            "left": null
          }
        }
      }
    }
  },
  "cells": [
    {
      "cell_type": "markdown",
      "metadata": {
        "id": "view-in-github",
        "colab_type": "text"
      },
      "source": [
        "<a href=\"https://colab.research.google.com/github/anirarrow/NLP_RnD/blob/main/BERT_sentiment_analysis.ipynb\" target=\"_parent\"><img src=\"https://colab.research.google.com/assets/colab-badge.svg\" alt=\"Open In Colab\"/></a>"
      ]
    },
    {
      "cell_type": "code",
      "metadata": {
        "id": "Idno7Zu4-CIU"
      },
      "source": [
        "import os\n",
        "import re\n",
        "from tqdm import tqdm\n",
        "import numpy as np\n",
        "import pandas as pd\n",
        "import matplotlib.pyplot as plt"
      ],
      "execution_count": 1,
      "outputs": []
    },
    {
      "cell_type": "code",
      "metadata": {
        "id": "xMw45EcN_IsQ"
      },
      "source": [
        "# Download data\n",
        "import requests\n",
        "request = requests.get(\"https://drive.google.com/uc?export=download&id=1wHt8PsMLsfX5yNSqrt2fSTcb8LEiclcf\")\n",
        "with open(\"data.zip\", \"wb\") as file:\n",
        "    file.write(request.content)\n",
        "\n",
        "# Unzip data\n",
        "import zipfile\n",
        "with zipfile.ZipFile('data.zip') as zip:\n",
        "    zip.extractall('data')"
      ],
      "execution_count": 2,
      "outputs": []
    },
    {
      "cell_type": "code",
      "metadata": {
        "colab": {
          "base_uri": "https://localhost:8080/",
          "height": 204
        },
        "id": "nxQxtIRe_c4G",
        "outputId": "5fed8309-05ae-494f-e791-ef804d11281b"
      },
      "source": [
        "#Concat positive and negative examples (present in two separate files) and label them\n",
        "# Load data and set labels\n",
        "data_complaint = pd.read_csv('data/complaint1700.csv')\n",
        "data_complaint['label'] = 0\n",
        "data_non_complaint = pd.read_csv('data/noncomplaint1700.csv')\n",
        "data_non_complaint['label'] = 1\n",
        "\n",
        "# Concatenate complaining and non-complaining data\n",
        "data = pd.concat([data_complaint, data_non_complaint], axis=0).reset_index(drop=True)\n",
        "\n",
        "# Drop 'airline' column\n",
        "data.drop(['airline'], inplace=True, axis=1)\n",
        "\n",
        "# Display 5 random samples\n",
        "data.sample(5)"
      ],
      "execution_count": 3,
      "outputs": [
        {
          "output_type": "execute_result",
          "data": {
            "text/html": [
              "<div>\n",
              "<style scoped>\n",
              "    .dataframe tbody tr th:only-of-type {\n",
              "        vertical-align: middle;\n",
              "    }\n",
              "\n",
              "    .dataframe tbody tr th {\n",
              "        vertical-align: top;\n",
              "    }\n",
              "\n",
              "    .dataframe thead th {\n",
              "        text-align: right;\n",
              "    }\n",
              "</style>\n",
              "<table border=\"1\" class=\"dataframe\">\n",
              "  <thead>\n",
              "    <tr style=\"text-align: right;\">\n",
              "      <th></th>\n",
              "      <th>id</th>\n",
              "      <th>tweet</th>\n",
              "      <th>label</th>\n",
              "    </tr>\n",
              "  </thead>\n",
              "  <tbody>\n",
              "    <tr>\n",
              "      <th>2677</th>\n",
              "      <td>92051</td>\n",
              "      <td>@SouthwestAir does not mess around on Valentin...</td>\n",
              "      <td>1</td>\n",
              "    </tr>\n",
              "    <tr>\n",
              "      <th>2114</th>\n",
              "      <td>33431</td>\n",
              "      <td>@CyndyNayer @JetBlue @chic_travel @unclenate C...</td>\n",
              "      <td>1</td>\n",
              "    </tr>\n",
              "    <tr>\n",
              "      <th>559</th>\n",
              "      <td>93623</td>\n",
              "      <td>@united Why are you selling cheap upgrades in ...</td>\n",
              "      <td>0</td>\n",
              "    </tr>\n",
              "    <tr>\n",
              "      <th>1537</th>\n",
              "      <td>40802</td>\n",
              "      <td>@VirginAmerica Still waiting on a response to ...</td>\n",
              "      <td>0</td>\n",
              "    </tr>\n",
              "    <tr>\n",
              "      <th>2491</th>\n",
              "      <td>74066</td>\n",
              "      <td>@ProWrestlingTs Never doubt @JetBlue.</td>\n",
              "      <td>1</td>\n",
              "    </tr>\n",
              "  </tbody>\n",
              "</table>\n",
              "</div>"
            ],
            "text/plain": [
              "         id                                              tweet  label\n",
              "2677  92051  @SouthwestAir does not mess around on Valentin...      1\n",
              "2114  33431  @CyndyNayer @JetBlue @chic_travel @unclenate C...      1\n",
              "559   93623  @united Why are you selling cheap upgrades in ...      0\n",
              "1537  40802  @VirginAmerica Still waiting on a response to ...      0\n",
              "2491  74066              @ProWrestlingTs Never doubt @JetBlue.      1"
            ]
          },
          "metadata": {
            "tags": []
          },
          "execution_count": 3
        }
      ]
    },
    {
      "cell_type": "code",
      "metadata": {
        "colab": {
          "base_uri": "https://localhost:8080/",
          "height": 204
        },
        "id": "8D4w3R2r_pY_",
        "outputId": "b18dd712-4bd8-46b1-b688-85b2a22ed2f1"
      },
      "source": [
        "#Randomly create  train and validation splits (90% train)\n",
        "from sklearn.model_selection import train_test_split\n",
        "\n",
        "X = data.tweet.values\n",
        "y = data.label.values\n",
        "\n",
        "X_train, X_val, y_train, y_val =\\\n",
        "    train_test_split(X, y, test_size=0.1, random_state=2020)\n",
        "\n",
        "#Load the unlabeled test data\n",
        "# Load test data\n",
        "test_data = pd.read_csv('data/test_data.csv')\n",
        "\n",
        "# Keep important columns\n",
        "test_data = test_data[['id', 'tweet']]\n",
        "\n",
        "# Display 5 samples from the test data\n",
        "test_data.sample(5)"
      ],
      "execution_count": 4,
      "outputs": [
        {
          "output_type": "execute_result",
          "data": {
            "text/html": [
              "<div>\n",
              "<style scoped>\n",
              "    .dataframe tbody tr th:only-of-type {\n",
              "        vertical-align: middle;\n",
              "    }\n",
              "\n",
              "    .dataframe tbody tr th {\n",
              "        vertical-align: top;\n",
              "    }\n",
              "\n",
              "    .dataframe thead th {\n",
              "        text-align: right;\n",
              "    }\n",
              "</style>\n",
              "<table border=\"1\" class=\"dataframe\">\n",
              "  <thead>\n",
              "    <tr style=\"text-align: right;\">\n",
              "      <th></th>\n",
              "      <th>id</th>\n",
              "      <th>tweet</th>\n",
              "    </tr>\n",
              "  </thead>\n",
              "  <tbody>\n",
              "    <tr>\n",
              "      <th>191</th>\n",
              "      <td>7375</td>\n",
              "      <td>These Priority boarding cards @United and chas...</td>\n",
              "    </tr>\n",
              "    <tr>\n",
              "      <th>4179</th>\n",
              "      <td>159215</td>\n",
              "      <td>Lost baggage hell w/ @AlaskaAir - No one answe...</td>\n",
              "    </tr>\n",
              "    <tr>\n",
              "      <th>658</th>\n",
              "      <td>26194</td>\n",
              "      <td>@DeltaAssist 3421 failing to get us home safel...</td>\n",
              "    </tr>\n",
              "    <tr>\n",
              "      <th>1511</th>\n",
              "      <td>58335</td>\n",
              "      <td>@AmericanAir flight yo Chicago cancelled now i...</td>\n",
              "    </tr>\n",
              "    <tr>\n",
              "      <th>262</th>\n",
              "      <td>9764</td>\n",
              "      <td>@WeeklyChris @Delta @JetBlue @VirginAmerica @A...</td>\n",
              "    </tr>\n",
              "  </tbody>\n",
              "</table>\n",
              "</div>"
            ],
            "text/plain": [
              "          id                                              tweet\n",
              "191     7375  These Priority boarding cards @United and chas...\n",
              "4179  159215  Lost baggage hell w/ @AlaskaAir - No one answe...\n",
              "658    26194  @DeltaAssist 3421 failing to get us home safel...\n",
              "1511   58335  @AmericanAir flight yo Chicago cancelled now i...\n",
              "262     9764  @WeeklyChris @Delta @JetBlue @VirginAmerica @A..."
            ]
          },
          "metadata": {
            "tags": []
          },
          "execution_count": 4
        }
      ]
    },
    {
      "cell_type": "code",
      "metadata": {
        "colab": {
          "base_uri": "https://localhost:8080/"
        },
        "id": "7ZqJl15UAnic",
        "outputId": "d5d28994-522d-4850-a341-991db9815c2f"
      },
      "source": [
        "#Set GPU for training\n",
        "import torch\n",
        "\n",
        "if torch.cuda.is_available():       \n",
        "    device = torch.device(\"cuda\")\n",
        "    print(f'There are {torch.cuda.device_count()} GPU(s) available.')\n",
        "    print('Device name:', torch.cuda.get_device_name(0))\n",
        "\n",
        "else:\n",
        "    print('No GPU available, using the CPU instead.')\n",
        "    device = torch.device(\"cpu\")"
      ],
      "execution_count": 5,
      "outputs": [
        {
          "output_type": "stream",
          "text": [
            "No GPU available, using the CPU instead.\n"
          ],
          "name": "stdout"
        }
      ]
    },
    {
      "cell_type": "code",
      "metadata": {
        "id": "s7iP2dJwA1Gy"
      },
      "source": [
        "#Preprocessing for BERT\n",
        "def text_preprocessing(text):\n",
        "    \"\"\"\n",
        "    - Remove entity mentions (eg. '@united')\n",
        "    - Correct errors (eg. '&amp;' to '&')\n",
        "    @param    text (str): a string to be processed.\n",
        "    @return   text (Str): the processed string.\n",
        "    \"\"\"\n",
        "    # Remove '@name'\n",
        "    text = re.sub(r'(@.*?)[\\s]', ' ', text)\n",
        "\n",
        "    # Replace '&amp;' with '&'\n",
        "    text = re.sub(r'&amp;', '&', text)\n",
        "\n",
        "    # Remove trailing whitespace\n",
        "    text = re.sub(r'\\s+', ' ', text).strip()\n",
        "\n",
        "    return text"
      ],
      "execution_count": 6,
      "outputs": []
    },
    {
      "cell_type": "code",
      "metadata": {
        "colab": {
          "base_uri": "https://localhost:8080/"
        },
        "id": "PPq5I0t5BX99",
        "outputId": "ad216862-1985-48e3-c146-f9ec075c1580"
      },
      "source": [
        "!pip install transformers"
      ],
      "execution_count": 7,
      "outputs": [
        {
          "output_type": "stream",
          "text": [
            "Collecting transformers\n",
            "\u001b[?25l  Downloading https://files.pythonhosted.org/packages/fd/1a/41c644c963249fd7f3836d926afa1e3f1cc234a1c40d80c5f03ad8f6f1b2/transformers-4.8.2-py3-none-any.whl (2.5MB)\n",
            "\r\u001b[K     |▏                               | 10kB 14.8MB/s eta 0:00:01\r\u001b[K     |▎                               | 20kB 20.4MB/s eta 0:00:01\r\u001b[K     |▍                               | 30kB 25.1MB/s eta 0:00:01\r\u001b[K     |▌                               | 40kB 25.1MB/s eta 0:00:01\r\u001b[K     |▋                               | 51kB 16.5MB/s eta 0:00:01\r\u001b[K     |▉                               | 61kB 15.8MB/s eta 0:00:01\r\u001b[K     |█                               | 71kB 13.2MB/s eta 0:00:01\r\u001b[K     |█                               | 81kB 14.3MB/s eta 0:00:01\r\u001b[K     |█▏                              | 92kB 15.3MB/s eta 0:00:01\r\u001b[K     |█▎                              | 102kB 15.5MB/s eta 0:00:01\r\u001b[K     |█▍                              | 112kB 15.5MB/s eta 0:00:01\r\u001b[K     |█▋                              | 122kB 15.5MB/s eta 0:00:01\r\u001b[K     |█▊                              | 133kB 15.5MB/s eta 0:00:01\r\u001b[K     |█▉                              | 143kB 15.5MB/s eta 0:00:01\r\u001b[K     |██                              | 153kB 15.5MB/s eta 0:00:01\r\u001b[K     |██                              | 163kB 15.5MB/s eta 0:00:01\r\u001b[K     |██▎                             | 174kB 15.5MB/s eta 0:00:01\r\u001b[K     |██▍                             | 184kB 15.5MB/s eta 0:00:01\r\u001b[K     |██▌                             | 194kB 15.5MB/s eta 0:00:01\r\u001b[K     |██▋                             | 204kB 15.5MB/s eta 0:00:01\r\u001b[K     |██▊                             | 215kB 15.5MB/s eta 0:00:01\r\u001b[K     |██▉                             | 225kB 15.5MB/s eta 0:00:01\r\u001b[K     |███                             | 235kB 15.5MB/s eta 0:00:01\r\u001b[K     |███▏                            | 245kB 15.5MB/s eta 0:00:01\r\u001b[K     |███▎                            | 256kB 15.5MB/s eta 0:00:01\r\u001b[K     |███▍                            | 266kB 15.5MB/s eta 0:00:01\r\u001b[K     |███▌                            | 276kB 15.5MB/s eta 0:00:01\r\u001b[K     |███▊                            | 286kB 15.5MB/s eta 0:00:01\r\u001b[K     |███▉                            | 296kB 15.5MB/s eta 0:00:01\r\u001b[K     |████                            | 307kB 15.5MB/s eta 0:00:01\r\u001b[K     |████                            | 317kB 15.5MB/s eta 0:00:01\r\u001b[K     |████▏                           | 327kB 15.5MB/s eta 0:00:01\r\u001b[K     |████▎                           | 337kB 15.5MB/s eta 0:00:01\r\u001b[K     |████▌                           | 348kB 15.5MB/s eta 0:00:01\r\u001b[K     |████▋                           | 358kB 15.5MB/s eta 0:00:01\r\u001b[K     |████▊                           | 368kB 15.5MB/s eta 0:00:01\r\u001b[K     |████▉                           | 378kB 15.5MB/s eta 0:00:01\r\u001b[K     |█████                           | 389kB 15.5MB/s eta 0:00:01\r\u001b[K     |█████▏                          | 399kB 15.5MB/s eta 0:00:01\r\u001b[K     |█████▎                          | 409kB 15.5MB/s eta 0:00:01\r\u001b[K     |█████▍                          | 419kB 15.5MB/s eta 0:00:01\r\u001b[K     |█████▌                          | 430kB 15.5MB/s eta 0:00:01\r\u001b[K     |█████▋                          | 440kB 15.5MB/s eta 0:00:01\r\u001b[K     |█████▊                          | 450kB 15.5MB/s eta 0:00:01\r\u001b[K     |██████                          | 460kB 15.5MB/s eta 0:00:01\r\u001b[K     |██████                          | 471kB 15.5MB/s eta 0:00:01\r\u001b[K     |██████▏                         | 481kB 15.5MB/s eta 0:00:01\r\u001b[K     |██████▎                         | 491kB 15.5MB/s eta 0:00:01\r\u001b[K     |██████▍                         | 501kB 15.5MB/s eta 0:00:01\r\u001b[K     |██████▌                         | 512kB 15.5MB/s eta 0:00:01\r\u001b[K     |██████▊                         | 522kB 15.5MB/s eta 0:00:01\r\u001b[K     |██████▉                         | 532kB 15.5MB/s eta 0:00:01\r\u001b[K     |███████                         | 542kB 15.5MB/s eta 0:00:01\r\u001b[K     |███████                         | 552kB 15.5MB/s eta 0:00:01\r\u001b[K     |███████▏                        | 563kB 15.5MB/s eta 0:00:01\r\u001b[K     |███████▍                        | 573kB 15.5MB/s eta 0:00:01\r\u001b[K     |███████▌                        | 583kB 15.5MB/s eta 0:00:01\r\u001b[K     |███████▋                        | 593kB 15.5MB/s eta 0:00:01\r\u001b[K     |███████▊                        | 604kB 15.5MB/s eta 0:00:01\r\u001b[K     |███████▉                        | 614kB 15.5MB/s eta 0:00:01\r\u001b[K     |████████                        | 624kB 15.5MB/s eta 0:00:01\r\u001b[K     |████████▏                       | 634kB 15.5MB/s eta 0:00:01\r\u001b[K     |████████▎                       | 645kB 15.5MB/s eta 0:00:01\r\u001b[K     |████████▍                       | 655kB 15.5MB/s eta 0:00:01\r\u001b[K     |████████▌                       | 665kB 15.5MB/s eta 0:00:01\r\u001b[K     |████████▋                       | 675kB 15.5MB/s eta 0:00:01\r\u001b[K     |████████▉                       | 686kB 15.5MB/s eta 0:00:01\r\u001b[K     |█████████                       | 696kB 15.5MB/s eta 0:00:01\r\u001b[K     |█████████                       | 706kB 15.5MB/s eta 0:00:01\r\u001b[K     |█████████▏                      | 716kB 15.5MB/s eta 0:00:01\r\u001b[K     |█████████▎                      | 727kB 15.5MB/s eta 0:00:01\r\u001b[K     |█████████▍                      | 737kB 15.5MB/s eta 0:00:01\r\u001b[K     |█████████▋                      | 747kB 15.5MB/s eta 0:00:01\r\u001b[K     |█████████▊                      | 757kB 15.5MB/s eta 0:00:01\r\u001b[K     |█████████▉                      | 768kB 15.5MB/s eta 0:00:01\r\u001b[K     |██████████                      | 778kB 15.5MB/s eta 0:00:01\r\u001b[K     |██████████                      | 788kB 15.5MB/s eta 0:00:01\r\u001b[K     |██████████▎                     | 798kB 15.5MB/s eta 0:00:01\r\u001b[K     |██████████▍                     | 808kB 15.5MB/s eta 0:00:01\r\u001b[K     |██████████▌                     | 819kB 15.5MB/s eta 0:00:01\r\u001b[K     |██████████▋                     | 829kB 15.5MB/s eta 0:00:01\r\u001b[K     |██████████▊                     | 839kB 15.5MB/s eta 0:00:01\r\u001b[K     |██████████▉                     | 849kB 15.5MB/s eta 0:00:01\r\u001b[K     |███████████                     | 860kB 15.5MB/s eta 0:00:01\r\u001b[K     |███████████▏                    | 870kB 15.5MB/s eta 0:00:01\r\u001b[K     |███████████▎                    | 880kB 15.5MB/s eta 0:00:01\r\u001b[K     |███████████▍                    | 890kB 15.5MB/s eta 0:00:01\r\u001b[K     |███████████▌                    | 901kB 15.5MB/s eta 0:00:01\r\u001b[K     |███████████▊                    | 911kB 15.5MB/s eta 0:00:01\r\u001b[K     |███████████▉                    | 921kB 15.5MB/s eta 0:00:01\r\u001b[K     |████████████                    | 931kB 15.5MB/s eta 0:00:01\r\u001b[K     |████████████                    | 942kB 15.5MB/s eta 0:00:01\r\u001b[K     |████████████▏                   | 952kB 15.5MB/s eta 0:00:01\r\u001b[K     |████████████▎                   | 962kB 15.5MB/s eta 0:00:01\r\u001b[K     |████████████▌                   | 972kB 15.5MB/s eta 0:00:01\r\u001b[K     |████████████▋                   | 983kB 15.5MB/s eta 0:00:01\r\u001b[K     |████████████▊                   | 993kB 15.5MB/s eta 0:00:01\r\u001b[K     |████████████▉                   | 1.0MB 15.5MB/s eta 0:00:01\r\u001b[K     |█████████████                   | 1.0MB 15.5MB/s eta 0:00:01\r\u001b[K     |█████████████                   | 1.0MB 15.5MB/s eta 0:00:01\r\u001b[K     |█████████████▎                  | 1.0MB 15.5MB/s eta 0:00:01\r\u001b[K     |█████████████▍                  | 1.0MB 15.5MB/s eta 0:00:01\r\u001b[K     |█████████████▌                  | 1.1MB 15.5MB/s eta 0:00:01\r\u001b[K     |█████████████▋                  | 1.1MB 15.5MB/s eta 0:00:01\r\u001b[K     |█████████████▊                  | 1.1MB 15.5MB/s eta 0:00:01\r\u001b[K     |██████████████                  | 1.1MB 15.5MB/s eta 0:00:01\r\u001b[K     |██████████████                  | 1.1MB 15.5MB/s eta 0:00:01\r\u001b[K     |██████████████▏                 | 1.1MB 15.5MB/s eta 0:00:01\r\u001b[K     |██████████████▎                 | 1.1MB 15.5MB/s eta 0:00:01\r\u001b[K     |██████████████▍                 | 1.1MB 15.5MB/s eta 0:00:01\r\u001b[K     |██████████████▌                 | 1.1MB 15.5MB/s eta 0:00:01\r\u001b[K     |██████████████▊                 | 1.1MB 15.5MB/s eta 0:00:01\r\u001b[K     |██████████████▉                 | 1.2MB 15.5MB/s eta 0:00:01\r\u001b[K     |███████████████                 | 1.2MB 15.5MB/s eta 0:00:01\r\u001b[K     |███████████████                 | 1.2MB 15.5MB/s eta 0:00:01\r\u001b[K     |███████████████▏                | 1.2MB 15.5MB/s eta 0:00:01\r\u001b[K     |███████████████▍                | 1.2MB 15.5MB/s eta 0:00:01\r\u001b[K     |███████████████▌                | 1.2MB 15.5MB/s eta 0:00:01\r\u001b[K     |███████████████▋                | 1.2MB 15.5MB/s eta 0:00:01\r\u001b[K     |███████████████▊                | 1.2MB 15.5MB/s eta 0:00:01\r\u001b[K     |███████████████▉                | 1.2MB 15.5MB/s eta 0:00:01\r\u001b[K     |████████████████                | 1.2MB 15.5MB/s eta 0:00:01\r\u001b[K     |████████████████▏               | 1.3MB 15.5MB/s eta 0:00:01\r\u001b[K     |████████████████▎               | 1.3MB 15.5MB/s eta 0:00:01\r\u001b[K     |████████████████▍               | 1.3MB 15.5MB/s eta 0:00:01\r\u001b[K     |████████████████▌               | 1.3MB 15.5MB/s eta 0:00:01\r\u001b[K     |████████████████▋               | 1.3MB 15.5MB/s eta 0:00:01\r\u001b[K     |████████████████▉               | 1.3MB 15.5MB/s eta 0:00:01\r\u001b[K     |█████████████████               | 1.3MB 15.5MB/s eta 0:00:01\r\u001b[K     |█████████████████               | 1.3MB 15.5MB/s eta 0:00:01\r\u001b[K     |█████████████████▏              | 1.3MB 15.5MB/s eta 0:00:01\r\u001b[K     |█████████████████▎              | 1.4MB 15.5MB/s eta 0:00:01\r\u001b[K     |█████████████████▍              | 1.4MB 15.5MB/s eta 0:00:01\r\u001b[K     |█████████████████▋              | 1.4MB 15.5MB/s eta 0:00:01\r\u001b[K     |█████████████████▊              | 1.4MB 15.5MB/s eta 0:00:01\r\u001b[K     |█████████████████▉              | 1.4MB 15.5MB/s eta 0:00:01\r\u001b[K     |██████████████████              | 1.4MB 15.5MB/s eta 0:00:01\r\u001b[K     |██████████████████              | 1.4MB 15.5MB/s eta 0:00:01\r\u001b[K     |██████████████████▎             | 1.4MB 15.5MB/s eta 0:00:01\r\u001b[K     |██████████████████▍             | 1.4MB 15.5MB/s eta 0:00:01\r\u001b[K     |██████████████████▌             | 1.4MB 15.5MB/s eta 0:00:01\r\u001b[K     |██████████████████▋             | 1.5MB 15.5MB/s eta 0:00:01\r\u001b[K     |██████████████████▊             | 1.5MB 15.5MB/s eta 0:00:01\r\u001b[K     |██████████████████▉             | 1.5MB 15.5MB/s eta 0:00:01\r\u001b[K     |███████████████████             | 1.5MB 15.5MB/s eta 0:00:01\r\u001b[K     |███████████████████▏            | 1.5MB 15.5MB/s eta 0:00:01\r\u001b[K     |███████████████████▎            | 1.5MB 15.5MB/s eta 0:00:01\r\u001b[K     |███████████████████▍            | 1.5MB 15.5MB/s eta 0:00:01\r\u001b[K     |███████████████████▌            | 1.5MB 15.5MB/s eta 0:00:01\r\u001b[K     |███████████████████▋            | 1.5MB 15.5MB/s eta 0:00:01\r\u001b[K     |███████████████████▉            | 1.5MB 15.5MB/s eta 0:00:01\r\u001b[K     |████████████████████            | 1.6MB 15.5MB/s eta 0:00:01\r\u001b[K     |████████████████████            | 1.6MB 15.5MB/s eta 0:00:01\r\u001b[K     |████████████████████▏           | 1.6MB 15.5MB/s eta 0:00:01\r\u001b[K     |████████████████████▎           | 1.6MB 15.5MB/s eta 0:00:01\r\u001b[K     |████████████████████▌           | 1.6MB 15.5MB/s eta 0:00:01\r\u001b[K     |████████████████████▋           | 1.6MB 15.5MB/s eta 0:00:01\r\u001b[K     |████████████████████▊           | 1.6MB 15.5MB/s eta 0:00:01\r\u001b[K     |████████████████████▉           | 1.6MB 15.5MB/s eta 0:00:01\r\u001b[K     |█████████████████████           | 1.6MB 15.5MB/s eta 0:00:01\r\u001b[K     |█████████████████████           | 1.6MB 15.5MB/s eta 0:00:01\r\u001b[K     |█████████████████████▎          | 1.7MB 15.5MB/s eta 0:00:01\r\u001b[K     |█████████████████████▍          | 1.7MB 15.5MB/s eta 0:00:01\r\u001b[K     |█████████████████████▌          | 1.7MB 15.5MB/s eta 0:00:01\r\u001b[K     |█████████████████████▋          | 1.7MB 15.5MB/s eta 0:00:01\r\u001b[K     |█████████████████████▊          | 1.7MB 15.5MB/s eta 0:00:01\r\u001b[K     |██████████████████████          | 1.7MB 15.5MB/s eta 0:00:01\r\u001b[K     |██████████████████████          | 1.7MB 15.5MB/s eta 0:00:01\r\u001b[K     |██████████████████████▏         | 1.7MB 15.5MB/s eta 0:00:01\r\u001b[K     |██████████████████████▎         | 1.7MB 15.5MB/s eta 0:00:01\r\u001b[K     |██████████████████████▍         | 1.8MB 15.5MB/s eta 0:00:01\r\u001b[K     |██████████████████████▌         | 1.8MB 15.5MB/s eta 0:00:01\r\u001b[K     |██████████████████████▊         | 1.8MB 15.5MB/s eta 0:00:01\r\u001b[K     |██████████████████████▉         | 1.8MB 15.5MB/s eta 0:00:01\r\u001b[K     |███████████████████████         | 1.8MB 15.5MB/s eta 0:00:01\r\u001b[K     |███████████████████████         | 1.8MB 15.5MB/s eta 0:00:01\r\u001b[K     |███████████████████████▏        | 1.8MB 15.5MB/s eta 0:00:01\r\u001b[K     |███████████████████████▍        | 1.8MB 15.5MB/s eta 0:00:01\r\u001b[K     |███████████████████████▌        | 1.8MB 15.5MB/s eta 0:00:01\r\u001b[K     |███████████████████████▋        | 1.8MB 15.5MB/s eta 0:00:01\r\u001b[K     |███████████████████████▊        | 1.9MB 15.5MB/s eta 0:00:01\r\u001b[K     |███████████████████████▉        | 1.9MB 15.5MB/s eta 0:00:01\r\u001b[K     |████████████████████████        | 1.9MB 15.5MB/s eta 0:00:01\r\u001b[K     |████████████████████████▏       | 1.9MB 15.5MB/s eta 0:00:01\r\u001b[K     |████████████████████████▎       | 1.9MB 15.5MB/s eta 0:00:01\r\u001b[K     |████████████████████████▍       | 1.9MB 15.5MB/s eta 0:00:01\r\u001b[K     |████████████████████████▌       | 1.9MB 15.5MB/s eta 0:00:01\r\u001b[K     |████████████████████████▋       | 1.9MB 15.5MB/s eta 0:00:01\r\u001b[K     |████████████████████████▉       | 1.9MB 15.5MB/s eta 0:00:01\r\u001b[K     |█████████████████████████       | 1.9MB 15.5MB/s eta 0:00:01\r\u001b[K     |█████████████████████████       | 2.0MB 15.5MB/s eta 0:00:01\r\u001b[K     |█████████████████████████▏      | 2.0MB 15.5MB/s eta 0:00:01\r\u001b[K     |█████████████████████████▎      | 2.0MB 15.5MB/s eta 0:00:01\r\u001b[K     |█████████████████████████▍      | 2.0MB 15.5MB/s eta 0:00:01\r\u001b[K     |█████████████████████████▋      | 2.0MB 15.5MB/s eta 0:00:01\r\u001b[K     |█████████████████████████▊      | 2.0MB 15.5MB/s eta 0:00:01\r\u001b[K     |█████████████████████████▉      | 2.0MB 15.5MB/s eta 0:00:01\r\u001b[K     |██████████████████████████      | 2.0MB 15.5MB/s eta 0:00:01\r\u001b[K     |██████████████████████████      | 2.0MB 15.5MB/s eta 0:00:01\r\u001b[K     |██████████████████████████▏     | 2.0MB 15.5MB/s eta 0:00:01\r\u001b[K     |██████████████████████████▍     | 2.1MB 15.5MB/s eta 0:00:01\r\u001b[K     |██████████████████████████▌     | 2.1MB 15.5MB/s eta 0:00:01\r\u001b[K     |██████████████████████████▋     | 2.1MB 15.5MB/s eta 0:00:01\r\u001b[K     |██████████████████████████▊     | 2.1MB 15.5MB/s eta 0:00:01\r\u001b[K     |██████████████████████████▉     | 2.1MB 15.5MB/s eta 0:00:01\r\u001b[K     |███████████████████████████     | 2.1MB 15.5MB/s eta 0:00:01\r\u001b[K     |███████████████████████████▏    | 2.1MB 15.5MB/s eta 0:00:01\r\u001b[K     |███████████████████████████▎    | 2.1MB 15.5MB/s eta 0:00:01\r\u001b[K     |███████████████████████████▍    | 2.1MB 15.5MB/s eta 0:00:01\r\u001b[K     |███████████████████████████▌    | 2.2MB 15.5MB/s eta 0:00:01\r\u001b[K     |███████████████████████████▋    | 2.2MB 15.5MB/s eta 0:00:01\r\u001b[K     |███████████████████████████▉    | 2.2MB 15.5MB/s eta 0:00:01\r\u001b[K     |████████████████████████████    | 2.2MB 15.5MB/s eta 0:00:01\r\u001b[K     |████████████████████████████    | 2.2MB 15.5MB/s eta 0:00:01\r\u001b[K     |████████████████████████████▏   | 2.2MB 15.5MB/s eta 0:00:01\r\u001b[K     |████████████████████████████▎   | 2.2MB 15.5MB/s eta 0:00:01\r\u001b[K     |████████████████████████████▌   | 2.2MB 15.5MB/s eta 0:00:01\r\u001b[K     |████████████████████████████▋   | 2.2MB 15.5MB/s eta 0:00:01\r\u001b[K     |████████████████████████████▊   | 2.2MB 15.5MB/s eta 0:00:01\r\u001b[K     |████████████████████████████▉   | 2.3MB 15.5MB/s eta 0:00:01\r\u001b[K     |█████████████████████████████   | 2.3MB 15.5MB/s eta 0:00:01\r\u001b[K     |█████████████████████████████   | 2.3MB 15.5MB/s eta 0:00:01\r\u001b[K     |█████████████████████████████▎  | 2.3MB 15.5MB/s eta 0:00:01\r\u001b[K     |█████████████████████████████▍  | 2.3MB 15.5MB/s eta 0:00:01\r\u001b[K     |█████████████████████████████▌  | 2.3MB 15.5MB/s eta 0:00:01\r\u001b[K     |█████████████████████████████▋  | 2.3MB 15.5MB/s eta 0:00:01\r\u001b[K     |█████████████████████████████▊  | 2.3MB 15.5MB/s eta 0:00:01\r\u001b[K     |██████████████████████████████  | 2.3MB 15.5MB/s eta 0:00:01\r\u001b[K     |██████████████████████████████  | 2.3MB 15.5MB/s eta 0:00:01\r\u001b[K     |██████████████████████████████▏ | 2.4MB 15.5MB/s eta 0:00:01\r\u001b[K     |██████████████████████████████▎ | 2.4MB 15.5MB/s eta 0:00:01\r\u001b[K     |██████████████████████████████▍ | 2.4MB 15.5MB/s eta 0:00:01\r\u001b[K     |██████████████████████████████▌ | 2.4MB 15.5MB/s eta 0:00:01\r\u001b[K     |██████████████████████████████▊ | 2.4MB 15.5MB/s eta 0:00:01\r\u001b[K     |██████████████████████████████▉ | 2.4MB 15.5MB/s eta 0:00:01\r\u001b[K     |███████████████████████████████ | 2.4MB 15.5MB/s eta 0:00:01\r\u001b[K     |███████████████████████████████ | 2.4MB 15.5MB/s eta 0:00:01\r\u001b[K     |███████████████████████████████▏| 2.4MB 15.5MB/s eta 0:00:01\r\u001b[K     |███████████████████████████████▍| 2.4MB 15.5MB/s eta 0:00:01\r\u001b[K     |███████████████████████████████▌| 2.5MB 15.5MB/s eta 0:00:01\r\u001b[K     |███████████████████████████████▋| 2.5MB 15.5MB/s eta 0:00:01\r\u001b[K     |███████████████████████████████▊| 2.5MB 15.5MB/s eta 0:00:01\r\u001b[K     |███████████████████████████████▉| 2.5MB 15.5MB/s eta 0:00:01\r\u001b[K     |████████████████████████████████| 2.5MB 15.5MB/s eta 0:00:01\r\u001b[K     |████████████████████████████████| 2.5MB 15.5MB/s \n",
            "\u001b[?25hRequirement already satisfied: pyyaml in /usr/local/lib/python3.7/dist-packages (from transformers) (3.13)\n",
            "Requirement already satisfied: regex!=2019.12.17 in /usr/local/lib/python3.7/dist-packages (from transformers) (2019.12.20)\n",
            "Requirement already satisfied: tqdm>=4.27 in /usr/local/lib/python3.7/dist-packages (from transformers) (4.41.1)\n",
            "Requirement already satisfied: packaging in /usr/local/lib/python3.7/dist-packages (from transformers) (20.9)\n",
            "Collecting tokenizers<0.11,>=0.10.1\n",
            "\u001b[?25l  Downloading https://files.pythonhosted.org/packages/d4/e2/df3543e8ffdab68f5acc73f613de9c2b155ac47f162e725dcac87c521c11/tokenizers-0.10.3-cp37-cp37m-manylinux_2_5_x86_64.manylinux1_x86_64.manylinux_2_12_x86_64.manylinux2010_x86_64.whl (3.3MB)\n",
            "\u001b[K     |████████████████████████████████| 3.3MB 44.7MB/s \n",
            "\u001b[?25hCollecting huggingface-hub==0.0.12\n",
            "  Downloading https://files.pythonhosted.org/packages/2f/ee/97e253668fda9b17e968b3f97b2f8e53aa0127e8807d24a547687423fe0b/huggingface_hub-0.0.12-py3-none-any.whl\n",
            "Requirement already satisfied: requests in /usr/local/lib/python3.7/dist-packages (from transformers) (2.23.0)\n",
            "Collecting sacremoses\n",
            "\u001b[?25l  Downloading https://files.pythonhosted.org/packages/75/ee/67241dc87f266093c533a2d4d3d69438e57d7a90abb216fa076e7d475d4a/sacremoses-0.0.45-py3-none-any.whl (895kB)\n",
            "\u001b[K     |████████████████████████████████| 901kB 25.2MB/s \n",
            "\u001b[?25hRequirement already satisfied: filelock in /usr/local/lib/python3.7/dist-packages (from transformers) (3.0.12)\n",
            "Requirement already satisfied: numpy>=1.17 in /usr/local/lib/python3.7/dist-packages (from transformers) (1.19.5)\n",
            "Requirement already satisfied: importlib-metadata; python_version < \"3.8\" in /usr/local/lib/python3.7/dist-packages (from transformers) (4.5.0)\n",
            "Requirement already satisfied: pyparsing>=2.0.2 in /usr/local/lib/python3.7/dist-packages (from packaging->transformers) (2.4.7)\n",
            "Requirement already satisfied: typing-extensions in /usr/local/lib/python3.7/dist-packages (from huggingface-hub==0.0.12->transformers) (3.7.4.3)\n",
            "Requirement already satisfied: chardet<4,>=3.0.2 in /usr/local/lib/python3.7/dist-packages (from requests->transformers) (3.0.4)\n",
            "Requirement already satisfied: certifi>=2017.4.17 in /usr/local/lib/python3.7/dist-packages (from requests->transformers) (2021.5.30)\n",
            "Requirement already satisfied: idna<3,>=2.5 in /usr/local/lib/python3.7/dist-packages (from requests->transformers) (2.10)\n",
            "Requirement already satisfied: urllib3!=1.25.0,!=1.25.1,<1.26,>=1.21.1 in /usr/local/lib/python3.7/dist-packages (from requests->transformers) (1.24.3)\n",
            "Requirement already satisfied: six in /usr/local/lib/python3.7/dist-packages (from sacremoses->transformers) (1.15.0)\n",
            "Requirement already satisfied: joblib in /usr/local/lib/python3.7/dist-packages (from sacremoses->transformers) (1.0.1)\n",
            "Requirement already satisfied: click in /usr/local/lib/python3.7/dist-packages (from sacremoses->transformers) (7.1.2)\n",
            "Requirement already satisfied: zipp>=0.5 in /usr/local/lib/python3.7/dist-packages (from importlib-metadata; python_version < \"3.8\"->transformers) (3.4.1)\n",
            "Installing collected packages: tokenizers, huggingface-hub, sacremoses, transformers\n",
            "Successfully installed huggingface-hub-0.0.12 sacremoses-0.0.45 tokenizers-0.10.3 transformers-4.8.2\n"
          ],
          "name": "stdout"
        }
      ]
    },
    {
      "cell_type": "code",
      "metadata": {
        "id": "6zMqI0AEBAZL",
        "colab": {
          "base_uri": "https://localhost:8080/",
          "height": 164,
          "referenced_widgets": [
            "427a3a32e7d147b0b9acbe71071df18b",
            "4f2b2b5f186b4105817ddb20b9dffe46",
            "3ac82254a9dd48088d3768c58a5a3c5d",
            "1555c976d59f4da28dd4374390db1ddb",
            "47edc331d2bf461db15424938b0c4add",
            "6d89d27d79994f98b8b481a3120d1367",
            "943b3cc9fda74ade9167894b2f7eb18d",
            "9497add2a1d44cf18e03499664414297",
            "f60b3f0f4742455d91546071119a34d9",
            "b9e006cc9e7d47e99eaa890cf95ca113",
            "1ec6b73d039e4cf08652d33312df4927",
            "4593d1bf04e841fc80ab91bb17b0fbe1",
            "6848760bea884902a46648986e6c37c1",
            "d627b5e48e2a44de806c3fbdc0e8ab4e",
            "572469340c2745cbbaba8a6d8ac90212",
            "34c70a28f68949ef8599fe6646e6749e",
            "40dc949b93c542e68d9764a53cb62736",
            "6bd3cd81fb094f2185cb3474a3ca37d0",
            "9578e1e201364f67a50ecf9f824c0449",
            "2e0ac20e31a042fcb50ea947433711a2",
            "2b7dfc63d66a4edf9ee071bd6e702d2a",
            "703d672d991741e2aff9e9c7063480ef",
            "01fb7cd6dc0d40d485593b58ab26277e",
            "4d236d7ea0eb43db9f794f45802891ae"
          ]
        },
        "outputId": "ab82c89c-5a64-4d8d-cd0e-01c5cbdff6e5"
      },
      "source": [
        "#Tokenize data using the encode_plus function of BERT base.\n",
        "from transformers import BertTokenizer\n",
        "\n",
        "# Load the BERT tokenizer\n",
        "tokenizer = BertTokenizer.from_pretrained('bert-base-uncased', do_lower_case=True)\n",
        "\n",
        "# Create a function to tokenize a set of texts\n",
        "def preprocessing_for_bert(data):\n",
        "    \"\"\"Perform required preprocessing steps for pretrained BERT.\n",
        "    @param    data (np.array): Array of texts to be processed.\n",
        "    @return   input_ids (torch.Tensor): Tensor of token ids to be fed to a model.\n",
        "    @return   attention_masks (torch.Tensor): Tensor of indices specifying which\n",
        "                  tokens should be attended to by the model.\n",
        "    \"\"\"\n",
        "    # Create empty lists to store outputs\n",
        "    input_ids = []\n",
        "    attention_masks = []\n",
        "\n",
        "    # For every sentence...\n",
        "    for sent in data:\n",
        "        # `encode_plus` will:\n",
        "        #    (1) Tokenize the sentence\n",
        "        #    (2) Add the `[CLS]` and `[SEP]` token to the start and end\n",
        "        #    (3) Truncate/Pad sentence to max length\n",
        "        #    (4) Map tokens to their IDs\n",
        "        #    (5) Create attention mask\n",
        "        #    (6) Return a dictionary of outputs\n",
        "        encoded_sent = tokenizer.encode_plus(\n",
        "            text=text_preprocessing(sent),  # Preprocess sentence\n",
        "            add_special_tokens=True,        # Add `[CLS]` and `[SEP]`\n",
        "            max_length=MAX_LEN,                  # Max length to truncate/pad\n",
        "            pad_to_max_length=True,         # Pad sentence to max length\n",
        "            #return_tensors='pt',           # Return PyTorch tensor\n",
        "            return_attention_mask=True      # Return attention mask\n",
        "            )\n",
        "        \n",
        "        # Add the outputs to the lists\n",
        "        input_ids.append(encoded_sent.get('input_ids'))\n",
        "        attention_masks.append(encoded_sent.get('attention_mask'))\n",
        "\n",
        "    # Convert lists to tensors\n",
        "    input_ids = torch.tensor(input_ids)\n",
        "    attention_masks = torch.tensor(attention_masks)\n",
        "\n",
        "    return input_ids, attention_masks"
      ],
      "execution_count": 8,
      "outputs": [
        {
          "output_type": "display_data",
          "data": {
            "application/vnd.jupyter.widget-view+json": {
              "model_id": "427a3a32e7d147b0b9acbe71071df18b",
              "version_minor": 0,
              "version_major": 2
            },
            "text/plain": [
              "HBox(children=(FloatProgress(value=0.0, description='Downloading', max=231508.0, style=ProgressStyle(descripti…"
            ]
          },
          "metadata": {
            "tags": []
          }
        },
        {
          "output_type": "stream",
          "text": [
            "\n"
          ],
          "name": "stdout"
        },
        {
          "output_type": "display_data",
          "data": {
            "application/vnd.jupyter.widget-view+json": {
              "model_id": "f60b3f0f4742455d91546071119a34d9",
              "version_minor": 0,
              "version_major": 2
            },
            "text/plain": [
              "HBox(children=(FloatProgress(value=0.0, description='Downloading', max=28.0, style=ProgressStyle(description_w…"
            ]
          },
          "metadata": {
            "tags": []
          }
        },
        {
          "output_type": "stream",
          "text": [
            "\n"
          ],
          "name": "stdout"
        },
        {
          "output_type": "display_data",
          "data": {
            "application/vnd.jupyter.widget-view+json": {
              "model_id": "40dc949b93c542e68d9764a53cb62736",
              "version_minor": 0,
              "version_major": 2
            },
            "text/plain": [
              "HBox(children=(FloatProgress(value=0.0, description='Downloading', max=466062.0, style=ProgressStyle(descripti…"
            ]
          },
          "metadata": {
            "tags": []
          }
        },
        {
          "output_type": "stream",
          "text": [
            "\n"
          ],
          "name": "stdout"
        }
      ]
    },
    {
      "cell_type": "code",
      "metadata": {
        "colab": {
          "base_uri": "https://localhost:8080/"
        },
        "id": "Np1yuNcMBht1",
        "outputId": "84747db9-806d-4e98-cfa9-cd005ed7a817"
      },
      "source": [
        "# Concatenate train data and test data\n",
        "all_tweets = np.concatenate([data.tweet.values, test_data.tweet.values])\n",
        "\n",
        "# For each tweet in the all_tweets collection, encode it using BERT tokenizer\n",
        "# Note that the encode_plus method used in the preprocessing method is different than encode. Encode just encodes the tweet and converts it into a list of word IDs. \n",
        "encoded_tweets = [tokenizer.encode(sent, add_special_tokens=True) for sent in all_tweets]\n",
        "\n",
        "# Find the maximum length\n",
        "max_len = max([len(sent) for sent in encoded_tweets])\n",
        "print('Max length: ', max_len)\n",
        "print(encoded_tweets[0])"
      ],
      "execution_count": 9,
      "outputs": [
        {
          "output_type": "stream",
          "text": [
            "Max length:  68\n",
            "[101, 1030, 2142, 1045, 1005, 1049, 2383, 3314, 1012, 7483, 1045, 2128, 8654, 2098, 2005, 2484, 2847, 2044, 1045, 2001, 4011, 2000, 4875, 1010, 2085, 1045, 2064, 1005, 1056, 8833, 2006, 1004, 23713, 1025, 4638, 1999, 1012, 2064, 2017, 2393, 1029, 102]\n"
          ],
          "name": "stdout"
        }
      ]
    },
    {
      "cell_type": "code",
      "metadata": {
        "colab": {
          "base_uri": "https://localhost:8080/"
        },
        "id": "DHkpfOkdCA3n",
        "outputId": "5ce33279-61ef-49f2-d7fa-2db16dbc163f"
      },
      "source": [
        "# Specify `MAX_LEN`\n",
        "MAX_LEN = 64\n",
        "\n",
        "# Print sentence 0 and its encoded token ids\n",
        "# X[0] is the tweet in simple English (with user mentions and other noises)\n",
        "# X[0][0] gives us the token IDs for the tweet (returned by the preprocessing method)\n",
        "# squeeze removes single dimensional entries from the numpy object (if shape is (1,2,3), it becomes (2,3))\n",
        "# Token IDs are the token IDs of the processed, denoised tweet\n",
        "\n",
        "#token_ids = preprocessing_for_bert([X[0]])[0].squeeze().numpy()\n",
        "token_ids = list(preprocessing_for_bert([X[0]])[0].squeeze().numpy())\n",
        "print('Original: ', X[0])\n",
        "print('Token IDs: ', token_ids)\n",
        "\n",
        "# Run function `preprocessing_for_bert` on the train set and the validation set\n",
        "print('Tokenizing data...')\n",
        "#Shape of the mask is the same number of rows as in the data, and MAX_LEN columns **needs to be checked why\n",
        "train_inputs, train_masks = preprocessing_for_bert(X_train)\n",
        "val_inputs, val_masks = preprocessing_for_bert(X_val)\n",
        "\n",
        "print(X_train.shape)\n",
        "print(train_masks.shape)"
      ],
      "execution_count": 10,
      "outputs": [
        {
          "output_type": "stream",
          "text": [
            "Truncation was not explicitly activated but `max_length` is provided a specific value, please use `truncation=True` to explicitly truncate examples to max length. Defaulting to 'longest_first' truncation strategy. If you encode pairs of sequences (GLUE-style) with the tokenizer you can select this strategy more precisely by providing a specific strategy to `truncation`.\n"
          ],
          "name": "stderr"
        },
        {
          "output_type": "stream",
          "text": [
            "Original:  @united I'm having issues. Yesterday I rebooked for 24 hours after I was supposed to fly, now I can't log on &amp; check in. Can you help?\n",
            "Token IDs:  [101, 1045, 1005, 1049, 2383, 3314, 1012, 7483, 1045, 2128, 8654, 2098, 2005, 2484, 2847, 2044, 1045, 2001, 4011, 2000, 4875, 1010, 2085, 1045, 2064, 1005, 1056, 8833, 2006, 1004, 4638, 1999, 1012, 2064, 2017, 2393, 1029, 102, 0, 0, 0, 0, 0, 0, 0, 0, 0, 0, 0, 0, 0, 0, 0, 0, 0, 0, 0, 0, 0, 0, 0, 0, 0, 0]\n",
            "Tokenizing data...\n"
          ],
          "name": "stdout"
        },
        {
          "output_type": "stream",
          "text": [
            "/usr/local/lib/python3.7/dist-packages/transformers/tokenization_utils_base.py:2132: FutureWarning: The `pad_to_max_length` argument is deprecated and will be removed in a future version, use `padding=True` or `padding='longest'` to pad to the longest sequence in the batch, or use `padding='max_length'` to pad to a max length. In this case, you can give a specific length with `max_length` (e.g. `max_length=45`) or leave max_length to None to pad to the maximal input size of the model (e.g. 512 for Bert).\n",
            "  FutureWarning,\n"
          ],
          "name": "stderr"
        },
        {
          "output_type": "stream",
          "text": [
            "(3060,)\n",
            "torch.Size([3060, 64])\n"
          ],
          "name": "stdout"
        }
      ]
    },
    {
      "cell_type": "code",
      "metadata": {
        "id": "UATz-GmyIyan"
      },
      "source": [
        "from torch.utils.data import TensorDataset, DataLoader, RandomSampler, SequentialSampler\n",
        "\n",
        "# Convert other data types to torch.Tensor\n",
        "train_labels = torch.tensor(y_train)\n",
        "val_labels = torch.tensor(y_val)\n",
        "\n",
        "# For fine-tuning BERT, the authors recommend a batch size of 16 or 32.\n",
        "batch_size = 32\n",
        "\n",
        "# Create the DataLoader for our training set (dataloader is used to create an iterator that helps in saving memory and reduces training time)\n",
        "#TensorDataset is a structure that stores multiple tensors together\n",
        "# train_mask is the attention mask. It just tells BERT which tokens in the current example BERT should attend to. For example, if a tweet is shorter than MAX_LEN,\n",
        "# it will be padded with zeros. So, it will look like [101 109 1789 1240 56 890 0 0 0 0 0 0 ...]. The attention mask then would be [1 1 1 1 1 1 0 0 0 0 0 0 ...].\n",
        "# Thus, attention mask has the same shape as the data (or data batch): (num_examples, MAX_LEN).\n",
        "train_data = TensorDataset(train_inputs, train_masks, train_labels)\n",
        "train_sampler = RandomSampler(train_data)\n",
        "train_dataloader = DataLoader(train_data, sampler=train_sampler, batch_size=batch_size)\n",
        "\n",
        "# Create the DataLoader for our validation set\n",
        "val_data = TensorDataset(val_inputs, val_masks, val_labels)\n",
        "val_sampler = SequentialSampler(val_data)\n",
        "val_dataloader = DataLoader(val_data, sampler=val_sampler, batch_size=batch_size)"
      ],
      "execution_count": 11,
      "outputs": []
    },
    {
      "cell_type": "code",
      "metadata": {
        "id": "XL5vRmPrJ1bS"
      },
      "source": [
        "import torch\n",
        "import torch.nn as nn\n",
        "from transformers import BertModel\n",
        "\n",
        "# Create the BertClassfier class\n",
        "class BertClassifier(nn.Module):\n",
        "    \"\"\"Bert Model for Classification Tasks.\n",
        "    \"\"\"\n",
        "    def __init__(self, freeze_bert=False):\n",
        "        \"\"\"\n",
        "        @param    bert: a BertModel object\n",
        "        @param    classifier: a torch.nn.Module classifier\n",
        "        @param    freeze_bert (bool): Set `False` to fine-tune the BERT model\n",
        "        \"\"\"\n",
        "        #Inherit the superclass\n",
        "        super(BertClassifier, self).__init__()\n",
        "        # Specify hidden size of BERT (output dimensions for each word coming out of BERT's last encoder layer), hidden size of our classifier, and number of labels\n",
        "        D_in, H, D_out = 768, 50, 2\n",
        "\n",
        "        # Instantiate BERT model\n",
        "        self.bert = BertModel.from_pretrained('bert-base-uncased')\n",
        "\n",
        "        # Instantiate an one-layer feed-forward classifier\n",
        "        self.classifier = nn.Sequential(\n",
        "            nn.Linear(D_in, H),\n",
        "            nn.ReLU(),\n",
        "            #nn.Dropout(0.5),\n",
        "            nn.Linear(H, D_out)\n",
        "        )\n",
        "\n",
        "        # Freeze the BERT model\n",
        "        if freeze_bert:\n",
        "            for param in self.bert.parameters():\n",
        "                param.requires_grad = False\n",
        "        \n",
        "    def forward(self, input_ids, attention_mask):\n",
        "        \"\"\"\n",
        "        Feed input to BERT and the classifier to compute logits.\n",
        "        @param    input_ids (torch.Tensor): an input tensor with shape (batch_size,\n",
        "                      max_length)\n",
        "        @param    attention_mask (torch.Tensor): a tensor that hold attention mask\n",
        "                      information with shape (batch_size, max_length)\n",
        "        @return   logits (torch.Tensor): an output tensor with shape (batch_size,\n",
        "                      num_labels)\n",
        "        \"\"\"\n",
        "        # Feed input to BERT\n",
        "        outputs = self.bert(input_ids=input_ids,\n",
        "                            attention_mask=attention_mask)\n",
        "        \n",
        "        # Extract the last hidden state of the token `[CLS]` for classification task\n",
        "        last_hidden_state_cls = outputs[0][:, 0, :]\n",
        "\n",
        "        # Feed input to classifier to compute logits\n",
        "        logits = self.classifier(last_hidden_state_cls)\n",
        "\n",
        "        return logits"
      ],
      "execution_count": 12,
      "outputs": []
    },
    {
      "cell_type": "code",
      "metadata": {
        "id": "9TzrkLq6KWvm"
      },
      "source": [
        "from transformers import AdamW, get_linear_schedule_with_warmup\n",
        "\n",
        "def initialize_model(epochs=4):\n",
        "    \"\"\"Initialize the Bert Classifier, the optimizer and the learning rate scheduler.\n",
        "    \"\"\"\n",
        "    # Instantiate Bert Classifier\n",
        "    bert_classifier = BertClassifier(freeze_bert=False)\n",
        "\n",
        "    # Tell PyTorch to run the model on GPU\n",
        "    bert_classifier.to(device)\n",
        "\n",
        "    # Create the optimizer (for example gradient descent)\n",
        "    optimizer = AdamW(bert_classifier.parameters(),\n",
        "                      lr=5e-5,    # Default learning rate\n",
        "                      eps=1e-8    # Default epsilon value\n",
        "                      )\n",
        "\n",
        "    # Total number of training steps\n",
        "    total_steps = len(train_dataloader) * epochs\n",
        "\n",
        "    # Set up the learning rate scheduler (for every epoch, a new learning rate is returned)\n",
        "    scheduler = get_linear_schedule_with_warmup(optimizer,\n",
        "                                                num_warmup_steps=0, # Default value\n",
        "                                                num_training_steps=total_steps)\n",
        "    return bert_classifier, optimizer, scheduler"
      ],
      "execution_count": 13,
      "outputs": []
    },
    {
      "cell_type": "code",
      "metadata": {
        "id": "uTzjVqn8OMaC"
      },
      "source": [
        "def evaluate(model, val_dataloader):\n",
        "    \"\"\"After the completion of each training epoch, measure the model's performance\n",
        "    on our validation set.\n",
        "    \"\"\"\n",
        "    # Put the model into the evaluation mode. The dropout layers are disabled during\n",
        "    # the test time.\n",
        "    model.eval()\n",
        "\n",
        "    # Tracking variables\n",
        "    val_accuracy = []\n",
        "    val_loss = []\n",
        "\n",
        "    # For each batch in our validation set...\n",
        "    for batch in val_dataloader:\n",
        "        # Load batch to GPU\n",
        "        b_input_ids, b_attn_mask, b_labels = tuple(t.to(device) for t in batch)\n",
        "\n",
        "        # Compute logits\n",
        "        with torch.no_grad():\n",
        "            logits = model(b_input_ids, b_attn_mask)\n",
        "\n",
        "        # Compute loss\n",
        "        loss = loss_fn(logits, b_labels)\n",
        "        val_loss.append(loss.item())\n",
        "\n",
        "        # Get the predictions\n",
        "        preds = torch.argmax(logits, dim=1).flatten()\n",
        "\n",
        "        # Calculate the accuracy rate\n",
        "        accuracy = (preds == b_labels).cpu().numpy().mean() * 100\n",
        "        val_accuracy.append(accuracy)\n",
        "\n",
        "    # Compute the average accuracy and loss over the validation set.\n",
        "    val_loss = np.mean(val_loss)\n",
        "    val_accuracy = np.mean(val_accuracy)\n",
        "\n",
        "    return val_loss, val_accuracy"
      ],
      "execution_count": 14,
      "outputs": []
    },
    {
      "cell_type": "code",
      "metadata": {
        "id": "kSQx3xasMAez"
      },
      "source": [
        "#Train the model, and evaluate it on validation data\n",
        "import random\n",
        "import time\n",
        "\n",
        "# Specify loss function\n",
        "loss_fn = nn.CrossEntropyLoss()\n",
        "\n",
        "def set_seed(seed_value=42):\n",
        "    \"\"\"Set seed for reproducibility.\n",
        "    \"\"\"\n",
        "    random.seed(seed_value)\n",
        "    np.random.seed(seed_value)\n",
        "    torch.manual_seed(seed_value)\n",
        "    torch.cuda.manual_seed_all(seed_value)\n",
        "\n",
        "def train(model, train_dataloader, val_dataloader=None, epochs=4, evaluation=False):\n",
        "    \"\"\"Train the BertClassifier model.\n",
        "    \"\"\"\n",
        "    # Start training loop\n",
        "    print(\"Start training...\\n\")\n",
        "    for epoch_i in range(epochs):\n",
        "        # =======================================\n",
        "        #               Training\n",
        "        # =======================================\n",
        "        # Print the header of the result table\n",
        "        print(f\"{'Epoch':^7} | {'Batch':^7} | {'Train Loss':^12} | {'Val Loss':^10} | {'Val Acc':^9} | {'Elapsed':^9}\")\n",
        "        print(\"-\"*70)\n",
        "\n",
        "        # Measure the elapsed time of each epoch\n",
        "        t0_epoch, t0_batch = time.time(), time.time()\n",
        "\n",
        "        # Reset tracking variables at the beginning of each epoch\n",
        "        total_loss, batch_loss, batch_counts = 0, 0, 0\n",
        "\n",
        "        # Put the model into the training mode\n",
        "        model.train()\n",
        "\n",
        "        # For each batch of training data...\n",
        "        for step, batch in enumerate(train_dataloader):\n",
        "            batch_counts +=1\n",
        "            # Load batch to GPU\n",
        "            b_input_ids, b_attn_mask, b_labels = tuple(t.to(device) for t in batch)\n",
        "\n",
        "            # Zero out any previously calculated gradiemake double sure that you either ask me or Vivek when you are trying to make a changents\n",
        "            model.zero_grad()\n",
        "\n",
        "            # Perform a forward pass. This will return logits (the two probabilities of o/p as tensor).\n",
        "            logits = model(b_input_ids, b_attn_mask)\n",
        "            #print(\"Logits = \"+str(logits) )\n",
        "            # Compute loss and accumulate the loss values\n",
        "            loss = loss_fn(logits, b_labels)\n",
        "            batch_loss += loss.item()\n",
        "            total_loss += loss.item()\n",
        "\n",
        "            # Perform a backward pass to calculate gradients\n",
        "            loss.backward(retain_graph=True)\n",
        "\n",
        "            # Clip the norm of the gradients to 1.0 to prevent \"exploding gradients\"\n",
        "            torch.nn.utils.clip_grad_norm_(model.parameters(), 1.0)\n",
        "\n",
        "            # Update parametersmake double sure that you either ask me or Vivek when you are trying to make a change and the learning rate\n",
        "            optimizer.step()\n",
        "            scheduler.step()\n",
        "\n",
        "            # Print the loss values and time elapsed for every 20 batches\n",
        "            if (step % 20 == 0 and step != 0) or (step == len(train_dataloader) - 1):\n",
        "                # Calculate time elapsed for 20 batches\n",
        "                time_elapsed = time.time() - t0_batch\n",
        "\n",
        "                # Print training results\n",
        "                print(f\"{epoch_i + 1:^7} | {step:^7} | {batch_loss / batch_counts:^12.6f} | {'-':^10} | {'-':^9} | {time_elapsed:^9.2f}\")\n",
        "\n",
        "                # Reset batch tracking variables\n",
        "                batch_loss, batch_counts = 0, 0\n",
        "                t0_batch = time.time()\n",
        "\n",
        "        # Calculate the average loss over the entire training data\n",
        "        avg_train_loss = total_loss / len(train_dataloader)\n",
        "\n",
        "        loss.backward()\n",
        "        print(\"-\"*70)\n",
        "        # =======================================\n",
        "        #               Evaluation\n",
        "        # =======================================\n",
        "        if evaluation == True:\n",
        "            # After the completion of each training epoch, measure the model's performance\n",
        "            # on our validation set.\n",
        "            val_loss, val_accuracy = evaluate(model, val_dataloader)\n",
        "\n",
        "            # Print performance over the entire training data\n",
        "            time_elapsed = time.time() - t0_epoch\n",
        "            \n",
        "            print(f\"{epoch_i + 1:^7} | {'-':^7} | {avg_train_loss:^12.6f} | {val_loss:^10.6f} | {val_accuracy:^9.2f} | {time_elapsed:^9.2f}\")\n",
        "            print(\"-\"*70)\n",
        "        print(\"\\n\")\n",
        "    \n",
        "    print(\"Training complete!\")"
      ],
      "execution_count": 17,
      "outputs": []
    },
    {
      "cell_type": "code",
      "metadata": {
        "colab": {
          "base_uri": "https://localhost:8080/"
        },
        "id": "wMwQ2lGDOZFm",
        "outputId": "7ee48d39-c14a-4bee-b465-3bc4fefee7e4"
      },
      "source": [
        "set_seed(42)    # Set seed for reproducibility\n",
        "bert_classifier, optimizer, scheduler = initialize_model(epochs=2)\n",
        "train(bert_classifier, train_dataloader, val_dataloader, epochs=2, evaluation=True)"
      ],
      "execution_count": 18,
      "outputs": [
        {
          "output_type": "stream",
          "text": [
            "Some weights of the model checkpoint at bert-base-uncased were not used when initializing BertModel: ['cls.predictions.transform.dense.bias', 'cls.predictions.bias', 'cls.predictions.transform.LayerNorm.bias', 'cls.seq_relationship.weight', 'cls.predictions.transform.dense.weight', 'cls.predictions.transform.LayerNorm.weight', 'cls.predictions.decoder.weight', 'cls.seq_relationship.bias']\n",
            "- This IS expected if you are initializing BertModel from the checkpoint of a model trained on another task or with another architecture (e.g. initializing a BertForSequenceClassification model from a BertForPreTraining model).\n",
            "- This IS NOT expected if you are initializing BertModel from the checkpoint of a model that you expect to be exactly identical (initializing a BertForSequenceClassification model from a BertForSequenceClassification model).\n"
          ],
          "name": "stderr"
        },
        {
          "output_type": "stream",
          "text": [
            "Start training...\n",
            "\n",
            " Epoch  |  Batch  |  Train Loss  |  Val Loss  |  Val Acc  |  Elapsed \n",
            "----------------------------------------------------------------------\n",
            "   1    |   20    |   0.650558   |     -      |     -     |  288.55  \n",
            "   1    |   40    |   0.577584   |     -      |     -     |  270.80  \n",
            "   1    |   60    |   0.458187   |     -      |     -     |  269.37  \n",
            "   1    |   80    |   0.482426   |     -      |     -     |  268.79  \n",
            "   1    |   95    |   0.497400   |     -      |     -     |  196.24  \n",
            "----------------------------------------------------------------------\n",
            "   1    |    -    |   0.536319   |  0.429383  |   80.40   |  1342.58 \n",
            "----------------------------------------------------------------------\n",
            "\n",
            "\n",
            " Epoch  |  Batch  |  Train Loss  |  Val Loss  |  Val Acc  |  Elapsed \n",
            "----------------------------------------------------------------------\n",
            "   2    |   20    |   0.317013   |     -      |     -     |  286.32  \n",
            "   2    |   40    |   0.292969   |     -      |     -     |  268.80  \n",
            "   2    |   60    |   0.295953   |     -      |     -     |  267.49  \n",
            "   2    |   80    |   0.308609   |     -      |     -     |  266.28  \n",
            "   2    |   95    |   0.279805   |     -      |     -     |  194.03  \n",
            "----------------------------------------------------------------------\n",
            "   2    |    -    |   0.300052   |  0.429090  |   80.85   |  1331.19 \n",
            "----------------------------------------------------------------------\n",
            "\n",
            "\n",
            "Training complete!\n"
          ],
          "name": "stdout"
        }
      ]
    }
  ]
}